{
 "cells": [
  {
   "cell_type": "code",
   "execution_count": 1,
   "metadata": {},
   "outputs": [
    {
     "name": "stderr",
     "output_type": "stream",
     "text": [
      "Using numpy backend.\n"
     ]
    }
   ],
   "source": [
    "from sporco import util\n",
    "import sporco.metric as sm\n",
    "from sporco import plot\n",
    "from sporco.admm import ccmod\n",
    "from sporco.linalg import fftconv, fftn, ifftn\n",
    "import numpy as np\n",
    "import matplotlib.pyplot as plt\n",
    "from tensorly import kruskal_to_tensor, kron\n",
    "from tensorly.tenalg import khatri_rao"
   ]
  },
  {
   "cell_type": "code",
   "execution_count": 2,
   "metadata": {},
   "outputs": [],
   "source": [
    "# Dimensions of the K-CDL model\n",
    "\n",
    "N1 = 5\n",
    "N2 = 6\n",
    "N3 = 7\n",
    "N = np.product((N1, N2, N3))\n",
    "\n",
    "W1 = 2\n",
    "W2 = 3\n",
    "W3 = 4\n",
    "\n",
    "K = 3\n",
    "R = 2"
   ]
  },
  {
   "cell_type": "code",
   "execution_count": 3,
   "metadata": {},
   "outputs": [],
   "source": [
    "# Components in Temporal domain\n",
    "\n",
    "Y = np.random.normal(size=(N1, N2, N3))\n",
    "\n",
    "D = np.random.normal(size=(K, W1, W2, W3))\n",
    "D_pad = np.zeros((K, N1, N2, N3))\n",
    "D_pad[:, :W1, :W2, :W3] = D\n",
    "\n",
    "Z1 = np.random.normal(size=(K, N1, R))\n",
    "Z2 = np.random.normal(size=(K, N2, R))\n",
    "Z3 = np.random.normal(size=(K, N3, R))\n",
    "Z = np.zeros((K, N1, N2, N3))\n",
    "for k in range(K):\n",
    "    Z[k] = kruskal_to_tensor((Z1[k], Z2[k], Z3[k]))"
   ]
  },
  {
   "cell_type": "code",
   "execution_count": 4,
   "metadata": {},
   "outputs": [],
   "source": [
    "# Components in Frequency domain\n",
    "\n",
    "Yc = fftn(Y, axes=[0, 1, 2])\n",
    "\n",
    "Dc = fftn(D, axes=[1, 2, 3])\n",
    "Dc_pad = np.zeros((K, N1, N2, N3), dtype = np.complex)\n",
    "Dc_pad[:, :W1, :W2, :W3] = Dc.copy()\n",
    "Dc_pad = fftn(D_pad, axes=[1, 2, 3])\n",
    "\n",
    "Z1c = fftn(Z1, axes=[1])\n",
    "Z2c = fftn(Z2, axes=[1])\n",
    "Z3c = fftn(Z3, axes=[1])\n",
    "Zc = np.zeros((K, N1, N2, N3), dtype = np.complex)\n",
    "for k in range(K):\n",
    "    Zc[k] = kruskal_to_tensor((Z1c[k], Z2c[k], Z3c[k]))"
   ]
  },
  {
   "cell_type": "code",
   "execution_count": 5,
   "metadata": {},
   "outputs": [
    {
     "name": "stdout",
     "output_type": "stream",
     "text": [
      "2.842170943040401e-14\n"
     ]
    }
   ],
   "source": [
    "# Plancherel theorem on Y (print need to be 0)\n",
    "print(np.linalg.norm(Y)**2 - np.linalg.norm(Yc)**2/N)"
   ]
  },
  {
   "cell_type": "code",
   "execution_count": 6,
   "metadata": {},
   "outputs": [
    {
     "name": "stdout",
     "output_type": "stream",
     "text": [
      "1.0790282092503556e-13\n"
     ]
    }
   ],
   "source": [
    "# Check lemma 1 (print need to be 0)\n",
    "Zc_check = fftn(Z, axes=[1, 2, 3])\n",
    "\n",
    "print(np.linalg.norm(Zc - Zc_check))"
   ]
  },
  {
   "cell_type": "code",
   "execution_count": 7,
   "metadata": {},
   "outputs": [
    {
     "name": "stdout",
     "output_type": "stream",
     "text": [
      "5.4569682106375694e-12\n"
     ]
    }
   ],
   "source": [
    "# Check theorem 1 (print need to be 0)\n",
    "\n",
    "Ypred = np.sum(np.array([fftconv(D_pad[k], Z[k], axes=[0, 1, 2]) for k in range(K)]), axis=0)\n",
    "Ycpred = np.sum(np.array([np.multiply(Dc_pad[k], Zc[k]) for k in range(K)]), axis=0)\n",
    "\n",
    "print(0.5 * np.linalg.norm(Y - Ypred)**2 - 0.5 * np.linalg.norm(Yc - Ycpred)**2/N)"
   ]
  },
  {
   "cell_type": "code",
   "execution_count": 8,
   "metadata": {},
   "outputs": [],
   "source": [
    "# Specific ordering of the indexes during the vectorization\n",
    "def unfold(tensor, mode, order='F'):\n",
    "    return np.reshape(np.moveaxis(tensor, mode, 0), (tensor.shape[mode], -1), order=order)\n",
    "def ravel(X, order='F'):\n",
    "    return np.ravel(X, order=order)"
   ]
  },
  {
   "cell_type": "code",
   "execution_count": 9,
   "metadata": {},
   "outputs": [],
   "source": [
    "# Check corollary\n",
    "yc_0 = ravel(unfold(Yc, mode=0))\n",
    "\n",
    "dc_0_diag = np.array([np.diag(ravel(unfold(Dc_pad[k], mode=0))) for k in range(K)])\n",
    "Gammac = np.hstack(dc_0_diag)\n",
    "\n",
    "z1_0 = np.reshape(Z1, (K, N1 * R), order='F').ravel()\n",
    "z1c_0 = np.reshape(Z1c, (K, N1 * R), order='F').ravel()\n",
    "\n",
    "Bc = np.array([khatri_rao((Z3c[k], Z2c[k])) for k in range(K)])\n",
    "    \n",
    "Ac = np.zeros((K*N2*N3, K*R), dtype=np.complex)\n",
    "for k in range(K):\n",
    "    Ac[k*N2*N3 : (k+1)*N2*N3, k*R:(k+1)*R] = Bc[k]\n",
    "    \n",
    "I_1 = np.identity(N1)\n",
    "\n",
    "M = Gammac.dot(kron(Ac, I_1))"
   ]
  },
  {
   "cell_type": "code",
   "execution_count": 10,
   "metadata": {},
   "outputs": [
    {
     "name": "stdout",
     "output_type": "stream",
     "text": [
      "1.0913936421275139e-11\n"
     ]
    }
   ],
   "source": [
    "# Check corollary (print need to be 0)\n",
    "print(np.linalg.norm(Y - Ypred)**2 - np.linalg.norm(yc_0 - M.dot(z1c_0))**2/N)"
   ]
  },
  {
   "cell_type": "code",
   "execution_count": 11,
   "metadata": {},
   "outputs": [
    {
     "name": "stdout",
     "output_type": "stream",
     "text": [
      "0.0\n"
     ]
    }
   ],
   "source": [
    "# Check for kronecker outside (print need to be 0)\n",
    "\n",
    "Bc_check = np.array([kron(khatri_rao((Z3c[k], Z2c[k])), I_1) for k in range(K)])\n",
    "Ac_check = np.zeros((K*N, K*R*N1), dtype=np.complex)\n",
    "for k in range(K):\n",
    "    Ac_check[k*N : (k+1)*N, k*R*N1:(k+1)*R*N1] = Bc_check[k]\n",
    "    \n",
    "print(np.linalg.norm(kron(Ac, I_1) - Ac_check))"
   ]
  },
  {
   "cell_type": "code",
   "execution_count": 12,
   "metadata": {},
   "outputs": [],
   "source": [
    "# Just for visualization\n",
    "y_0 = ravel(unfold(Y, mode=0)) # unused\n",
    "\n",
    "d_0_diag = np.array([np.diag(ravel(unfold(D[k], mode=0))) for k in range(K)])\n",
    "Gamma = np.hstack(d_0_diag)\n",
    "\n",
    "B = np.array([khatri_rao((Z3[k], Z2[k])) for k in range(K)])\n",
    "\n",
    "A = np.zeros((K*N2*N3, K*R))\n",
    "for k in range(K):\n",
    "    A[k*N2*N3 : (k+1)*N2*N3, k*R:(k+1)*R] = B[k]"
   ]
  },
  {
   "cell_type": "code",
   "execution_count": 13,
   "metadata": {},
   "outputs": [
    {
     "data": {
      "text/plain": [
       "<matplotlib.image.AxesImage at 0x7fbb99fea1d0>"
      ]
     },
     "execution_count": 13,
     "metadata": {},
     "output_type": "execute_result"
    },
    {
     "data": {
      "image/png": "[encoded data removed]",
      "text/plain": [
       "<Figure size 1080x360 with 3 Axes>"
      ]
     },
     "metadata": {
      "needs_background": "light"
     },
     "output_type": "display_data"
    }
   ],
   "source": [
    "# Visualization of matrix Gamma\n",
    "plt.figure(figsize=(15, 5))\n",
    "plt.subplot(131)\n",
    "plt.imshow(Gamma)\n",
    "plt.title('$\\Gamma$ (without padding)')\n",
    "plt.subplot(132)\n",
    "plt.title('real($\\widehat{\\Gamma}$)')\n",
    "plt.imshow(np.real(Gammac))\n",
    "plt.subplot(133)\n",
    "plt.title('imag($\\widehat{\\Gamma}$)')\n",
    "plt.imshow(np.imag(Gammac))"
   ]
  },
  {
   "cell_type": "code",
   "execution_count": 14,
   "metadata": {},
   "outputs": [
    {
     "data": {
      "text/plain": [
       "<matplotlib.image.AxesImage at 0x7fbb99f5b358>"
      ]
     },
     "execution_count": 14,
     "metadata": {},
     "output_type": "execute_result"
    },
    {
     "data": {
      "image/png": "[encoded data removed]",
      "text/plain": [
       "<Figure size 1080x360 with 3 Axes>"
      ]
     },
     "metadata": {
      "needs_background": "light"
     },
     "output_type": "display_data"
    }
   ],
   "source": [
    "# Visualization of matrix A\n",
    "plt.figure(figsize=(15, 5))\n",
    "plt.subplot(131)\n",
    "plt.imshow(A.T)\n",
    "plt.title('$A^T$')\n",
    "plt.subplot(132)\n",
    "plt.title('real($\\widehat{A}^T$)')\n",
    "plt.imshow(np.real(Ac.T))\n",
    "plt.subplot(133)\n",
    "plt.title('imag($\\widehat{A}^T$)')\n",
    "plt.imshow(np.imag(Ac.T))"
   ]
  },
  {
   "cell_type": "code",
   "execution_count": 15,
   "metadata": {},
   "outputs": [
    {
     "name": "stdout",
     "output_type": "stream",
     "text": [
      "5.261055715623732e-11\n"
     ]
    }
   ],
   "source": [
    "# Check proposition (print need to be 0)\n",
    "Gram = M.conj().T.dot(M)\n",
    "\n",
    "Gram_check = np.zeros((Gram.shape), dtype=np.complex)\n",
    "for k in range(K):\n",
    "    for l in range(K):\n",
    "        dck_conj = dc_0_diag[k].conj().T\n",
    "        dcl = dc_0_diag[l]\n",
    "\n",
    "        Ack_conj = kron(khatri_rao((Z3c[k], Z2c[k])), I_1).conj().T\n",
    "        Acl = kron(khatri_rao((Z3c[l], Z2c[l])), I_1)\n",
    "\n",
    "        Block_kl = Ack_conj.dot(dck_conj).dot(dcl).dot(Acl)\n",
    "        \n",
    "        Gram_check[k*N1*R : (k+1)*N1*R, l*N1*R: (l+1)*N1*R] = Block_kl\n",
    "\n",
    "print(np.linalg.norm(Gram - Gram_check))"
   ]
  },
  {
   "cell_type": "code",
   "execution_count": 16,
   "metadata": {},
   "outputs": [
    {
     "name": "stdout",
     "output_type": "stream",
     "text": [
      "0.0\n"
     ]
    }
   ],
   "source": [
    "# Check the decomposition into smaller kronecker (print need to be 0)\n",
    "k = 0\n",
    "dc_0_diag_k_check = np.zeros((dc_0_diag[k].shape), dtype=np.complex)\n",
    "for i in range(N2*N3):\n",
    "    ei = np.zeros(N2*N3)\n",
    "    ei[i] = 1\n",
    "    \n",
    "    delta_ki = dc_0_diag[k][i*N1:(i+1)*N1, i*N1:(i+1)*N1]\n",
    "    \n",
    "    dc_0_diag_k_check += kron(np.diag(ei), delta_ki)\n",
    "    \n",
    "print(np.linalg.norm(dc_0_diag[k] - dc_0_diag_k_check))"
   ]
  },
  {
   "cell_type": "code",
   "execution_count": 17,
   "metadata": {},
   "outputs": [
    {
     "name": "stdout",
     "output_type": "stream",
     "text": [
      "8.133042369113223e-12\n"
     ]
    }
   ],
   "source": [
    "# Check the final decomposition of the Gram matrix (print need to be 0)\n",
    "\n",
    "k = 0\n",
    "l = 1\n",
    "Ack_conj = kron(khatri_rao((Z3c[k], Z2c[k])), I_1).conj().T\n",
    "Acl = kron(khatri_rao((Z3c[l], Z2c[l])), I_1)\n",
    "dck_conj = dc_0_diag[k].conj().T\n",
    "dcl = dc_0_diag[l]\n",
    "Block_kl = Ack_conj.dot(dck_conj).dot(dcl).dot(Acl)\n",
    "\n",
    "Block_kl_check = np.zeros((Block_kl.shape), dtype=np.complex)\n",
    "Bck_conj = khatri_rao((Z3c[k], Z2c[k])).conj()\n",
    "Bcl = khatri_rao((Z3c[l], Z2c[l]))\n",
    "\n",
    "for i in range(N2*N3):\n",
    "    \n",
    "    delta_ki_conj = dc_0_diag[k][i*N1:(i+1)*N1, i*N1:(i+1)*N1].conj()\n",
    "    delta_li = dc_0_diag[l][i*N1:(i+1)*N1, i*N1:(i+1)*N1]\n",
    "    \n",
    "    Block_kl_check += kron( np.outer(Bck_conj[i, :], Bcl[i, :]), delta_ki_conj*delta_li )\n",
    "    \n",
    "print(np.linalg.norm(Block_kl - Block_kl_check))"
   ]
  },
  {
   "cell_type": "code",
   "execution_count": 18,
   "metadata": {},
   "outputs": [
    {
     "data": {
      "text/plain": [
       "Text(0.5, 1.0, '|imag(Gram)|>0')"
      ]
     },
     "execution_count": 18,
     "metadata": {},
     "output_type": "execute_result"
    },
    {
     "data": {
      "image/png": "[encoded data removed]",
      "text/plain": [
       "<Figure size 1080x360 with 4 Axes>"
      ]
     },
     "metadata": {
      "needs_background": "light"
     },
     "output_type": "display_data"
    }
   ],
   "source": [
    "# Visualization of the particular structure of the Gram matrix\n",
    "plt.figure(figsize=(15, 5))\n",
    "plt.subplot(141)\n",
    "plt.imshow(np.real(Gram))\n",
    "plt.title('real(Gram)')\n",
    "plt.subplot(142)\n",
    "plt.imshow(abs((Gram))>0)\n",
    "plt.title('|real(Gram)|>0')\n",
    "plt.subplot(143)\n",
    "plt.imshow(np.imag(Gram))\n",
    "plt.title('imag(Gram)')\n",
    "plt.subplot(144)\n",
    "plt.imshow(abs(np.imag(Gram))>0)\n",
    "plt.title('|imag(Gram)|>0')"
   ]
  },
  {
   "cell_type": "code",
   "execution_count": null,
   "metadata": {},
   "outputs": [],
   "source": []
  }
 ],
 "metadata": {
  "kernelspec": {
   "display_name": "Python 3",
   "language": "python",
   "name": "python3"
  },
  "language_info": {
   "codemirror_mode": {
    "name": "ipython",
    "version": 3
   },
   "file_extension": ".py",
   "mimetype": "text/x-python",
   "name": "python",
   "nbconvert_exporter": "python",
   "pygments_lexer": "ipython3",
   "version": "3.5.2"
  }
 },
 "nbformat": 4,
 "nbformat_minor": 2
}
